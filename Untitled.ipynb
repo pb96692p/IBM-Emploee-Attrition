{
 "cells": [
  {
   "cell_type": "markdown",
   "metadata": {},
   "source": [
    "# Description: \n"
   ]
  },
  {
   "cell_type": "markdown",
   "metadata": {},
   "source": [
    "Uncover the factors that lead to employee attrition and explore important questions such as ‘show me a breakdown of distance from home by job role and attrition’ or ‘compare average monthly income by education and attrition’. This is a fictional data set created by IBM data scientists.\n",
    "\n",
    "# Tasks:\n",
    "* Finds out factors which affects emp attition \n",
    "* Find out factors on which affecting factors are depends. \n",
    "* Use Statistical tools to prove your infrence. \n"
   ]
  },
  {
   "cell_type": "code",
   "execution_count": null,
   "metadata": {},
   "outputs": [],
   "source": [
    "import pandas as pd,seaborn as sns, numpy as np, matplotlib.pyplot as plt\n",
    "import pandas_profiling as pp\n",
    "from sklearn import datasets, linear_model\n",
    "from sklearn.linear_model import LogisticRegression\n",
    "from sklearn.linear_model import LogisticRegressionCV\n",
    "import statsmodels.api as sm\n",
    "\n",
    "from scipy import stats\n",
    "from statsmodels.stats.outliers_influence import variance_inflation_factor\n",
    "from statsmodels.tools.tools import add_constant\n",
    "from sklearn.model_selection import train_test_split\n",
    "from sklearn.metrics import confusion_matrix \n",
    "from sklearn.metrics import accuracy_score \n",
    "from sklearn.metrics import classification_report \n",
    "import warnings\n",
    "from sklearn.feature_selection import RFE\n",
    "from sklearn import tree\n",
    "warnings.filterwarnings(\"ignore\")"
   ]
  },
  {
   "cell_type": "code",
   "execution_count": null,
   "metadata": {},
   "outputs": [],
   "source": [
    "df = pd.read_csv('WA_Fn-UseC_-HR-Employee-Attrition.csv') # load train data frame in pandas "
   ]
  },
  {
   "cell_type": "code",
   "execution_count": null,
   "metadata": {},
   "outputs": [],
   "source": [
    "df.head()"
   ]
  },
  {
   "cell_type": "code",
   "execution_count": null,
   "metadata": {},
   "outputs": [],
   "source": [
    "df.tail()"
   ]
  },
  {
   "cell_type": "code",
   "execution_count": null,
   "metadata": {},
   "outputs": [],
   "source": [
    "df.shape"
   ]
  },
  {
   "cell_type": "markdown",
   "metadata": {},
   "source": [
    "##### data saet has 1470 ovservetion and 35 feature"
   ]
  },
  {
   "cell_type": "code",
   "execution_count": null,
   "metadata": {
    "scrolled": false
   },
   "outputs": [],
   "source": [
    "df.isnull().sum()\n"
   ]
  },
  {
   "cell_type": "markdown",
   "metadata": {},
   "source": [
    "## data has no null values "
   ]
  },
  {
   "cell_type": "code",
   "execution_count": null,
   "metadata": {},
   "outputs": [],
   "source": [
    "profile = pp.ProfileReport(df)\n",
    "profile.to_file(\"employee.html\") #the old code does not work with new version of pandas_profiling"
   ]
  },
  {
   "cell_type": "markdown",
   "metadata": {},
   "source": [
    "# observations from the data:\n",
    "* dataframe has 17 numeric 15 catagorical and 3 boolean features  \n",
    "* MonthlyIncome is highly correlated with JobLevel\t\n",
    "* JobRole is highly correlated with Department\n",
    "* NumCompaniesWorked has 197 (13.4%) zeros\t\n",
    "* TrainingTimesLastYear has 54 (3.7%) zeros\t\n",
    "* YearsAtCompany has 44 (3.0%) zeros\tZeros\n",
    "* YearsInCurrentRole has 244 (16.6%) zeros\t\n",
    "* YearsSinceLastPromotion has 581 (39.5%) zeros \n",
    "* YearsWithCurrManager has 263 (17.9%) zeros\n"
   ]
  },
  {
   "cell_type": "markdown",
   "metadata": {},
   "source": [
    "# warnings from the data set:\n",
    "\n",
    "* EmployeeCount has constant value \"1\"\ttherefor it has no sach significance for the prediction\n",
    "* Over18 has constant value \"Y\"\ttherefor it has no sach significance for the prediction\n",
    "* StandardHours has constant value \"80\"\tthere for it has no sach significance for the prediction\n",
    "* EmployeeNumber has unique values\tUnique therefor it can not be used for the prediction\n",
    "\n",
    "## conclusion:\n",
    "#####      * EmployeeCount, Over18, StandardHours and EmployeeNumber  are necessary to be droped from the data set\n"
   ]
  },
  {
   "cell_type": "code",
   "execution_count": null,
   "metadata": {},
   "outputs": [],
   "source": [
    "df = df.drop(['EmployeeCount','Over18', 'StandardHours','EmployeeNumber'],axis = 1)"
   ]
  },
  {
   "cell_type": "code",
   "execution_count": null,
   "metadata": {},
   "outputs": [],
   "source": [
    "df.head()"
   ]
  },
  {
   "cell_type": "markdown",
   "metadata": {},
   "source": [
    "# Proportion test of few veriables"
   ]
  },
  {
   "cell_type": "code",
   "execution_count": null,
   "metadata": {},
   "outputs": [],
   "source": [
    "plt.figure(figsize=(15,5))\n",
    "\n",
    "plt.subplot(1,2,1)\n",
    "plt.title(' No     83.877551\\n Yes    16.122449')\n",
    "sns.countplot(x=\"Attrition\", data=df)\n",
    "\n",
    "plt.subplot(1,2,2)\n",
    "plt.title('Travel_Rarely : 70.952381\\n Travel_Frequently : 18.843537\\n Non-Travel : 10.204082')\n",
    "sns.countplot(x=\"BusinessTravel\", data=df)"
   ]
  },
  {
   "cell_type": "markdown",
   "metadata": {},
   "source": [
    "##  "
   ]
  },
  {
   "cell_type": "code",
   "execution_count": null,
   "metadata": {},
   "outputs": [],
   "source": [
    "plt.figure(figsize=(15,10))\n",
    "\n",
    "plt.subplot(2,2,1)\n",
    "plt.title('Research & Development    65.374150 \\n Sales                     30.340136 \\nHuman Resources            4.285714')\n",
    "sns.countplot(x=\"Department\", data=df)\n",
    "\n",
    "\n",
    "plt.subplot(2,2,2)\n",
    "plt.title('3    38.911565 \\n 4    27.074830 \\n 2    19.183673 \\n 1    11.564626 \\n 5     3.265306')\n",
    "sns.countplot(x=\"Education\", data=df)"
   ]
  },
  {
   "cell_type": "code",
   "execution_count": null,
   "metadata": {},
   "outputs": [],
   "source": [
    "plt.figure(figsize=(15,8))\n",
    "\n",
    "plt.subplot(1,2,1)\n",
    "plt.title(' Travel_Rarely : 70.952381\\n Travel_Frequently : 18.843537\\n Non-Travel : 10.204082')\n",
    "sns.countplot(x=\"Gender\", data=df)\n",
    "\n",
    "plt.subplot(1,2,2)\n",
    "plt.title('Life Sciences       41.224490 \\n Medical             31.564626 \\n Marketing           10.816327 \\n Technical Degree     8.979592 \\n Other                5.578231 \\n Human Resources 1.836735')\n",
    "sns.countplot(x=\"Education\", data=df)"
   ]
  },
  {
   "cell_type": "markdown",
   "metadata": {},
   "source": [
    "## department wice proportion of attrition"
   ]
  },
  {
   "cell_type": "code",
   "execution_count": null,
   "metadata": {},
   "outputs": [],
   "source": [
    "sns.countplot(hue='Attrition',x ='Department',data = df)"
   ]
  },
  {
   "cell_type": "code",
   "execution_count": null,
   "metadata": {},
   "outputs": [],
   "source": [
    "sns.countplot(hue='Attrition',x ='OverTime',data = df)"
   ]
  },
  {
   "cell_type": "markdown",
   "metadata": {},
   "source": [
    "## Gender wice proportion of attrition"
   ]
  },
  {
   "cell_type": "code",
   "execution_count": null,
   "metadata": {},
   "outputs": [],
   "source": [
    "x = df.groupby(['Gender'])['Attrition'] \\\n",
    ".value_counts(normalize= True) \\\n",
    ".reset_index(name='count') \\\n",
    ".sort_values(['count'], ascending=False)\\\n",
    ".head(5)\n",
    "sns.countplot(x='Gender', hue='Attrition',data = df)\n",
    "x"
   ]
  },
  {
   "cell_type": "markdown",
   "metadata": {},
   "source": [
    "## effects of business  travel in attrition"
   ]
  },
  {
   "cell_type": "code",
   "execution_count": null,
   "metadata": {},
   "outputs": [],
   "source": [
    "x = df.groupby(['BusinessTravel'])['Attrition'] \\\n",
    ".value_counts(normalize= True) \\\n",
    ".reset_index(name='count') \\\n",
    ".sort_values(['count'], ascending=False)\n",
    "sns.countplot(x='BusinessTravel', hue='Attrition',data = df)\n",
    "x"
   ]
  },
  {
   "cell_type": "code",
   "execution_count": null,
   "metadata": {},
   "outputs": [],
   "source": [
    "x = df.groupby(['EnvironmentSatisfaction'])['Attrition'] \\\n",
    ".value_counts(normalize= True) \\\n",
    ".reset_index(name='count') \\\n",
    ".sort_values(['count'], ascending=False)\n",
    "sns.countplot(x='EnvironmentSatisfaction', hue='Attrition',data = df)\n",
    "x"
   ]
  },
  {
   "cell_type": "code",
   "execution_count": null,
   "metadata": {},
   "outputs": [],
   "source": [
    "x = df.groupby(['JobSatisfaction'])['Attrition'] \\\n",
    ".value_counts(normalize= True) \\\n",
    ".reset_index(name='count') \\\n",
    ".sort_values(['count'], ascending=False)\n",
    "sns.countplot(x='JobSatisfaction', hue='Attrition',data = df)\n",
    "x"
   ]
  },
  {
   "cell_type": "code",
   "execution_count": null,
   "metadata": {},
   "outputs": [],
   "source": [
    "x = df.groupby(['JobLevel'])['Attrition'] \\\n",
    ".value_counts(normalize= True) \\\n",
    ".reset_index(name='count') \\\n",
    ".sort_values(['count'], ascending=False)\n",
    "sns.countplot(x='JobLevel', hue='Attrition',data = df)\n",
    "x"
   ]
  },
  {
   "cell_type": "code",
   "execution_count": null,
   "metadata": {},
   "outputs": [],
   "source": [
    "labels = ['0-5', '6-10', '11-15', '16-20','21-25',' 26-30','31-35', '36-40']\n",
    "bins = [0, 5, 10, 15 , 20, 25 , 30 , 35 ,40 ,]\n",
    "df['ex'] = pd.cut(df.TotalWorkingYears, bins=bins,labels=labels)\n",
    "sns.countplot(hue='ex',x ='Attrition',data = df)\n",
    "x = df.groupby(['Attrition'])['ex'] \\\n",
    ".value_counts(normalize= True) \\\n",
    ".reset_index(name='count') \\\n",
    ".sort_values(['count'], ascending=False)\n",
    "x"
   ]
  },
  {
   "cell_type": "code",
   "execution_count": null,
   "metadata": {},
   "outputs": [],
   "source": [
    "df1 = df._get_numeric_data()\n",
    "df1 = df1.drop(['Education','EnvironmentSatisfaction','JobInvolvement','JobLevel','JobSatisfaction','PerformanceRating', \n",
    "                'RelationshipSatisfaction','StockOptionLevel','WorkLifeBalance'],axis=1)\n",
    "df1.head()"
   ]
  },
  {
   "cell_type": "code",
   "execution_count": null,
   "metadata": {},
   "outputs": [],
   "source": [
    "'''attrition_0 = df.loc[df['Attrition'] == 0]\n",
    "attrition_1 = df.loc[df['Attrition'] == 1]\n",
    "\n",
    "sns.kdeplot(attrition_0['DistanceFromHome'], label='Stayed',\n",
    "            shade=True, ax=ax1, alpha=0.6)\n",
    "sns.kdeplot(attrition_1['DistanceFromHome'], label='Left',\n",
    "            shade=True, ax=ax1, alpha=0.6)\n",
    "\n",
    "\n",
    "plt.show()'''"
   ]
  },
  {
   "cell_type": "code",
   "execution_count": null,
   "metadata": {},
   "outputs": [],
   "source": [
    "plt.figure(figsize=(17,13))\n",
    "bax = sns.heatmap(df1.corr(),annot=True,cmap='RdBu_r')"
   ]
  },
  {
   "cell_type": "code",
   "execution_count": null,
   "metadata": {},
   "outputs": [],
   "source": [
    "df1.describe()"
   ]
  },
  {
   "cell_type": "code",
   "execution_count": null,
   "metadata": {},
   "outputs": [],
   "source": [
    "plt.figure(figsize=(15,8))\n",
    "\n",
    "plt.subplot(1,2,1)\n",
    "sns.boxplot(x = 'DistanceFromHome', data = df1)\n",
    "\n",
    "plt.subplot(1,2,2)\n",
    "sns.distplot(df1.DistanceFromHome)"
   ]
  },
  {
   "cell_type": "code",
   "execution_count": null,
   "metadata": {},
   "outputs": [],
   "source": [
    "plt.figure(figsize=(15,8))\n",
    "\n",
    "plt.subplot(1,2,1)\n",
    "sns.boxplot(x = 'MonthlyIncome', data = df1)\n",
    "\n",
    "plt.subplot(1,2,2)\n",
    "sns.distplot(df1.MonthlyIncome)"
   ]
  },
  {
   "cell_type": "code",
   "execution_count": null,
   "metadata": {},
   "outputs": [],
   "source": [
    "plt.figure(figsize=(15,8))\n",
    "\n",
    "plt.subplot(1,2,1)\n",
    "sns.boxplot(x = 'NumCompaniesWorked', data = df1)\n",
    "\n",
    "plt.subplot(1,2,2)\n",
    "sns.distplot(df1.NumCompaniesWorked)"
   ]
  },
  {
   "cell_type": "code",
   "execution_count": null,
   "metadata": {},
   "outputs": [],
   "source": [
    "plt.figure(figsize=(15,8))\n",
    "\n",
    "plt.subplot(1,2,1)\n",
    "sns.boxplot(x = 'TotalWorkingYears', data = df1)\n",
    "\n",
    "plt.subplot(1,2,2)\n",
    "sns.distplot(df1.TotalWorkingYears)"
   ]
  },
  {
   "cell_type": "code",
   "execution_count": null,
   "metadata": {},
   "outputs": [],
   "source": [
    "sns.barplot(x=\"JobLevel\", y=\"MonthlyIncome\",hue = 'Attrition' ,data=df)"
   ]
  },
  {
   "cell_type": "markdown",
   "metadata": {},
   "source": [
    "# Statistics "
   ]
  },
  {
   "cell_type": "code",
   "execution_count": null,
   "metadata": {},
   "outputs": [],
   "source": [
    "dfx = pd.get_dummies(df,  drop_first=True,) "
   ]
  },
  {
   "cell_type": "code",
   "execution_count": null,
   "metadata": {},
   "outputs": [],
   "source": [
    "dfx.columns"
   ]
  },
  {
   "cell_type": "code",
   "execution_count": null,
   "metadata": {},
   "outputs": [],
   "source": [
    "y= dfx['Attrition_Yes']"
   ]
  },
  {
   "cell_type": "code",
   "execution_count": null,
   "metadata": {},
   "outputs": [],
   "source": [
    "x = dfx.drop(['Attrition_Yes'],axis=1)"
   ]
  },
  {
   "cell_type": "code",
   "execution_count": null,
   "metadata": {},
   "outputs": [],
   "source": [
    "X2 = sm.add_constant(x)\n",
    "est = sm.OLS(y, X2)\n",
    "est2 = est.fit()\n",
    "est2.summary()"
   ]
  },
  {
   "cell_type": "markdown",
   "metadata": {},
   "source": [
    "#  P-Values result\n",
    "##  * DailyRate, Education, HourlyRate, JobLevel, MonthlyIncome, MonthlyRate, PercentSalaryHike,\tPerformanceRating, StockOptionLevel,\tYearsInCurrentRole, Department_Research & Development and  EducationField_Technical Degree has very high p-values so we are not going to use it in our assisment"
   ]
  },
  {
   "cell_type": "code",
   "execution_count": null,
   "metadata": {},
   "outputs": [],
   "source": [
    "le = LogisticRegression()\n",
    "le.fit(x, y)\n",
    "\n",
    "rfe = RFE(le, 20)  \n",
    "rfe = rfe.fit(x, y)\n",
    "col = x.columns[rfe.support_]\n",
    "col\n"
   ]
  },
  {
   "cell_type": "code",
   "execution_count": null,
   "metadata": {},
   "outputs": [],
   "source": [
    "x = dfx[col]\n",
    "vif = pd.DataFrame()\n",
    "vif[\"VIF Factor\"] = [variance_inflation_factor(x.values, i) for i in range(x.shape[1])]\n",
    "vif[\"features\"] = x.columns\n",
    "vif"
   ]
  },
  {
   "cell_type": "markdown",
   "metadata": {},
   "source": [
    "# We should use those features that actualy  make good prediction has  low p_value and VIF and feature that actully make sense to choose "
   ]
  },
  {
   "cell_type": "code",
   "execution_count": null,
   "metadata": {},
   "outputs": [],
   "source": [
    "x = dfx[['OverTime_Yes','ex_6-10','JobRole_Sales Representative','JobSatisfaction']]"
   ]
  },
  {
   "cell_type": "code",
   "execution_count": null,
   "metadata": {},
   "outputs": [],
   "source": [
    "X_train, X_test, y_train, y_test = train_test_split(x, y, test_size=0.30, random_state=42)\n"
   ]
  },
  {
   "cell_type": "code",
   "execution_count": null,
   "metadata": {
    "scrolled": false
   },
   "outputs": [],
   "source": [
    "le = LogisticRegression().fit(X_train, y_train)"
   ]
  },
  {
   "cell_type": "code",
   "execution_count": null,
   "metadata": {},
   "outputs": [],
   "source": [
    "le.score(X_train,  y_train)"
   ]
  },
  {
   "cell_type": "markdown",
   "metadata": {},
   "source": [
    "#  R squre for train data = 83 %"
   ]
  },
  {
   "cell_type": "code",
   "execution_count": null,
   "metadata": {},
   "outputs": [],
   "source": [
    "y_train_pred = le.predict(X_train)"
   ]
  },
  {
   "cell_type": "code",
   "execution_count": null,
   "metadata": {
    "scrolled": true
   },
   "outputs": [],
   "source": [
    "le.score(X_test,y_test)"
   ]
  },
  {
   "cell_type": "markdown",
   "metadata": {},
   "source": [
    "## #  R squre for train data = 86 %"
   ]
  },
  {
   "cell_type": "markdown",
   "metadata": {},
   "source": [
    "#  Decision Tree Classifier"
   ]
  },
  {
   "cell_type": "code",
   "execution_count": null,
   "metadata": {},
   "outputs": [],
   "source": [
    "df2 = df.drop(['Age', 'DailyRate', 'DistanceFromHome', 'HourlyRate', 'MonthlyIncome',\\\n",
    "       'MonthlyRate', 'NumCompaniesWorked', 'PercentSalaryHike',\\\n",
    "       'TotalWorkingYears', 'TrainingTimesLastYear', 'YearsAtCompany',\\\n",
    "       'YearsInCurrentRole', 'YearsSinceLastPromotion',\\\n",
    "       'YearsWithCurrManager'],axis = 1)"
   ]
  },
  {
   "cell_type": "code",
   "execution_count": null,
   "metadata": {},
   "outputs": [],
   "source": [
    "from sklearn.preprocessing import LabelEncoder,OneHotEncoder"
   ]
  },
  {
   "cell_type": "code",
   "execution_count": null,
   "metadata": {},
   "outputs": [],
   "source": [
    "df3 = df2.copy()"
   ]
  },
  {
   "cell_type": "code",
   "execution_count": null,
   "metadata": {},
   "outputs": [],
   "source": [
    "col_names = list(df3)\n",
    "print(col_names)\n",
    "\n",
    "for col in col_names:\n",
    "    df3[col] = df3[col].astype('category',copy=False)\n",
    "\n",
    "df3.dtypes"
   ]
  },
  {
   "cell_type": "code",
   "execution_count": null,
   "metadata": {
    "scrolled": true
   },
   "outputs": [],
   "source": [
    "le = LabelEncoder()\n",
    "'''for col in col_names:\n",
    "    df3[col] = le.fit_transform(df3[col])'''\n",
    "\n",
    "df3[\"Attrition\"] = le.fit_transform(df3[\"Attrition\"])\n",
    "df3[\"Gender\"] = le.fit_transform(df3[\"Gender\"])\n",
    "df3[\"OverTime\"] = le.fit_transform(df3[\"OverTime\"])\n",
    "df3\n",
    "df3.head()"
   ]
  },
  {
   "cell_type": "markdown",
   "metadata": {},
   "source": [
    "#  ovservetions :\n",
    "  * there are two multicolinearity clusters in the data frame"
   ]
  },
  {
   "cell_type": "code",
   "execution_count": null,
   "metadata": {
    "scrolled": false
   },
   "outputs": [],
   "source": [
    "df3 = pd.get_dummies(df3,  drop_first=True,) \n",
    "df3 = pd.concat([df3, df1], axis = 1)\n",
    "df3.head()"
   ]
  },
  {
   "cell_type": "code",
   "execution_count": null,
   "metadata": {},
   "outputs": [],
   "source": [
    "Y= df3['Attrition']"
   ]
  },
  {
   "cell_type": "code",
   "execution_count": null,
   "metadata": {},
   "outputs": [],
   "source": [
    "X = df3.drop(['Attrition'],axis=1)"
   ]
  },
  {
   "cell_type": "code",
   "execution_count": null,
   "metadata": {},
   "outputs": [],
   "source": [
    "x_train,x_test, y_train ,y_test = train_test_split(X, Y, test_size=0.30, random_state=42)\n"
   ]
  },
  {
   "cell_type": "code",
   "execution_count": null,
   "metadata": {},
   "outputs": [],
   "source": [
    "\n",
    "clf = tree.DecisionTreeClassifier()\n",
    "clf = clf.fit(x_train,  y_train)"
   ]
  },
  {
   "cell_type": "code",
   "execution_count": null,
   "metadata": {},
   "outputs": [],
   "source": [
    "clf.score(x_train,  y_train)"
   ]
  },
  {
   "cell_type": "code",
   "execution_count": null,
   "metadata": {},
   "outputs": [],
   "source": [
    "y_test_pred = clf.predict(x_test)"
   ]
  },
  {
   "cell_type": "code",
   "execution_count": null,
   "metadata": {},
   "outputs": [],
   "source": [
    "clf.score(x_test,y_test)"
   ]
  },
  {
   "cell_type": "markdown",
   "metadata": {},
   "source": [
    "#  getting f1 score"
   ]
  },
  {
   "cell_type": "code",
   "execution_count": null,
   "metadata": {},
   "outputs": [],
   "source": [
    "\n",
    "  \n",
    "actual = y_test\n",
    "predicted = y_test_pred\n",
    "results = confusion_matrix(actual, predicted) \n",
    "  \n",
    "print('Confusion Matrix :')\n",
    "print(results) \n",
    "print('Accuracy Score :',accuracy_score(actual, predicted))\n",
    "print('Report : ')\n",
    "print(classification_report(actual, predicted))"
   ]
  },
  {
   "cell_type": "markdown",
   "metadata": {},
   "source": [
    "##  f1-score  "
   ]
  },
  {
   "cell_type": "markdown",
   "metadata": {},
   "source": [
    "# we are getting 100 accurecy on train set but 80% on test it is not bad but our model is over fitting a bit so let us tune some perametre "
   ]
  },
  {
   "cell_type": "code",
   "execution_count": null,
   "metadata": {},
   "outputs": [],
   "source": [
    "\n",
    "from sklearn.metrics import roc_curve, auc\n",
    "false_positive_rate, true_positive_rate, thresholds = roc_curve(y_test, y_test_pred)\n",
    "roc_auc = auc(false_positive_rate, true_positive_rate)"
   ]
  },
  {
   "cell_type": "markdown",
   "metadata": {},
   "source": [
    "#  how mach death"
   ]
  },
  {
   "cell_type": "code",
   "execution_count": null,
   "metadata": {},
   "outputs": [],
   "source": [
    "max_depths = np.linspace(1, 20, 20, endpoint=True)\n",
    "train_results = []\n",
    "test_results = []\n",
    "for max_depth in max_depths:\n",
    "    dt = tree.DecisionTreeClassifier(max_depth=max_depth)\n",
    "    dt.fit(x_train, y_train)\n",
    "    train_pred = dt.predict(x_train)\n",
    "    false_positive_rate, true_positive_rate, thresholds = roc_curve(y_train, train_pred)\n",
    "    roc_auc = auc(false_positive_rate, true_positive_rate)\n",
    "    train_results.append(roc_auc)\n",
    "    y_pred = dt.predict(x_test)\n",
    "    false_positive_rate, true_positive_rate, thresholds = roc_curve(y_test, y_pred)\n",
    "    roc_auc = auc(false_positive_rate, true_positive_rate)\n",
    "    test_results.append(roc_auc)\n",
    "from matplotlib.legend_handler import HandlerLine2D\n",
    "line1, = plt.plot(max_depths, train_results, 'b', label='Train AUC')\n",
    "line2, = plt.plot(max_depths, test_results, 'r', label='Test AUC')\n",
    "plt.legend(handler_map={line1: HandlerLine2D(numpoints=2)})\n",
    "plt.ylabel('AUC score')\n",
    "plt.xlabel('Tree depth')\n",
    "plt.show()"
   ]
  },
  {
   "cell_type": "markdown",
   "metadata": {},
   "source": [
    "# the above  graph shows that when we use less depth we get less accurecy but as depth increase train set accurecy"
   ]
  },
  {
   "cell_type": "code",
   "execution_count": null,
   "metadata": {},
   "outputs": [],
   "source": [
    "min_samples_splits = np.linspace(0.1, 1.0, 10, endpoint=True)\n",
    "train_results = []\n",
    "test_results = []\n",
    "for min_samples_split in min_samples_splits:\n",
    "    dt = tree.DecisionTreeClassifier(min_samples_split=min_samples_split)\n",
    "    dt.fit(x_train, y_train)\n",
    "    train_pred = dt.predict(x_train)\n",
    "    false_positive_rate, true_positive_rate, thresholds =    roc_curve(y_train, train_pred)\n",
    "    roc_auc = auc(false_positive_rate, true_positive_rate)\n",
    "    train_results.append(roc_auc)\n",
    "    y_pred = dt.predict(x_test)\n",
    "    false_positive_rate, true_positive_rate, thresholds = roc_curve(y_test, y_pred)\n",
    "    roc_auc = auc(false_positive_rate, true_positive_rate)\n",
    "    test_results.append(roc_auc)\n",
    "from matplotlib.legend_handler import HandlerLine2D\n",
    "line1, = plt.plot(min_samples_splits, train_results, 'b', label='Train AUC')\n",
    "line2, = plt.plot(min_samples_splits, test_results, 'r', label='Test AUC')\n",
    "plt.legend(handler_map={line1: HandlerLine2D(numpoints=2)})\n",
    "plt.ylabel('AUC score')\n",
    "plt.xlabel('min samples split')\n",
    "plt.show()"
   ]
  },
  {
   "cell_type": "markdown",
   "metadata": {},
   "source": [
    "## around .45 min sample splite train and test accurecy come close "
   ]
  },
  {
   "cell_type": "code",
   "execution_count": null,
   "metadata": {},
   "outputs": [],
   "source": [
    "max_features = list(range(1,x_train.shape[1]))\n",
    "train_results = []\n",
    "test_results = []\n",
    "for max_feature in max_features:\n",
    "    dt = tree.DecisionTreeClassifier(max_features=max_feature)\n",
    "    dt.fit(x_train, y_train)\n",
    "    train_pred = dt.predict(x_train)\n",
    "    false_positive_rate, true_positive_rate, thresholds = roc_curve(y_train, train_pred)\n",
    "    roc_auc = auc(false_positive_rate, true_positive_rate)\n",
    "    train_results.append(roc_auc)\n",
    "    y_pred = dt.predict(x_test)\n",
    "    false_positive_rate, true_positive_rate, thresholds = roc_curve(y_test, y_pred)\n",
    "    roc_auc = auc(false_positive_rate, true_positive_rate)\n",
    "    test_results.append(roc_auc)\n",
    "from matplotlib.legend_handler import HandlerLine2D\n",
    "line1, = plt.plot(max_features, train_results, 'b', label='Train AUC')\n",
    "line2, = plt.plot(max_features, test_results, 'r', label='Test AUC')\n",
    "plt.legend(handler_map={line1: HandlerLine2D(numpoints=2)})\n",
    "plt.ylabel('AUC score')\n",
    "plt.xlabel('max features')\n",
    "plt.show()\n"
   ]
  },
  {
   "cell_type": "markdown",
   "metadata": {},
   "source": [
    "##  adjusting feature do not give us good accurecy bur the less feature we choose the better the better is it for us and the model"
   ]
  },
  {
   "cell_type": "markdown",
   "metadata": {},
   "source": [
    "#  Hyper tuning the tree besed clasification model"
   ]
  },
  {
   "cell_type": "code",
   "execution_count": null,
   "metadata": {},
   "outputs": [],
   "source": [
    "X_train, X_test, y_train, y_test = train_test_split(X, Y, test_size=0.30, random_state=42)"
   ]
  },
  {
   "cell_type": "code",
   "execution_count": null,
   "metadata": {},
   "outputs": [],
   "source": [
    "clf = tree.DecisionTreeClassifier(max_depth = 4,max_features = 15 ,min_samples_split = .46)\n",
    "clf = clf.fit(X_train,  y_train)"
   ]
  },
  {
   "cell_type": "code",
   "execution_count": null,
   "metadata": {},
   "outputs": [],
   "source": [
    "clf.score(X_train,  y_train)"
   ]
  },
  {
   "cell_type": "code",
   "execution_count": null,
   "metadata": {},
   "outputs": [],
   "source": [
    "y_test_pred = clf.predict(X_train)"
   ]
  },
  {
   "cell_type": "code",
   "execution_count": null,
   "metadata": {},
   "outputs": [],
   "source": [
    "clf.score(X_test,y_test)"
   ]
  },
  {
   "cell_type": "code",
   "execution_count": null,
   "metadata": {},
   "outputs": [],
   "source": [
    "importances = clf.feature_importances_\n",
    "importances"
   ]
  },
  {
   "cell_type": "markdown",
   "metadata": {},
   "source": [
    "#  R-squre \n",
    "###         test score = 86\n",
    "###         train score = 82"
   ]
  },
  {
   "cell_type": "code",
   "execution_count": null,
   "metadata": {},
   "outputs": [],
   "source": [
    "import pickle"
   ]
  },
  {
   "cell_type": "code",
   "execution_count": null,
   "metadata": {},
   "outputs": [],
   "source": [
    "pickle.dump(clf,open('model.pkl','wb'))"
   ]
  },
  {
   "cell_type": "code",
   "execution_count": null,
   "metadata": {},
   "outputs": [],
   "source": [
    "model=pickle.load(open('model.pkl','rb'))\n",
    "model.predict([[20,3,7]])"
   ]
  },
  {
   "cell_type": "code",
   "execution_count": null,
   "metadata": {},
   "outputs": [],
   "source": [
    "from flask import Flask,request,jsonify,render_template\n",
    "app=Flask(__name__)\n",
    "model=pickle.load(open('model.pkl','rb'))\n",
    "debug=True\n",
    "@app.route('/')\n",
    "def home():\n",
    "    #return render_template('index')\n",
    "    return render_template('index.html')\n",
    "#@app.route('/predict',methods=['POST','GET'])\n",
    "@app.route('/predict',methods=['POST'])\n",
    "def predict():\n",
    "    #print(request.form)\n",
    "    int_features=[int(x) for x in request.form.values()]\n",
    "    final_features=[np.array(int_features)]\n",
    "    prediction=model.predict(final_features)\n",
    "    \n",
    "    output=prediction[0]\n",
    "    \n",
    "    #return render_template('index',prediction_text='Marketimg Team Needs To contact this person by this strategy {}'.format(output))\n",
    "    return render_template('index.html',prediction_text='Marketimg Team Needs To contact this person by this strategy {}'.format(output))\n",
    "\n",
    "if __name__=='__main__':\n",
    "    app.run()"
   ]
  },
  {
   "cell_type": "code",
   "execution_count": null,
   "metadata": {},
   "outputs": [],
   "source": []
  }
 ],
 "metadata": {
  "kernelspec": {
   "display_name": "Python 3.8.8 ('base')",
   "language": "python",
   "name": "python3"
  },
  "language_info": {
   "codemirror_mode": {
    "name": "ipython",
    "version": 3
   },
   "file_extension": ".py",
   "mimetype": "text/x-python",
   "name": "python",
   "nbconvert_exporter": "python",
   "pygments_lexer": "ipython3",
   "version": "3.8.8"
  },
  "vscode": {
   "interpreter": {
    "hash": "a077222d77dfe082b8f1dd562ad70e458ac2ab76993a0b248ab0476e32e9e8dd"
   }
  }
 },
 "nbformat": 4,
 "nbformat_minor": 4
}
